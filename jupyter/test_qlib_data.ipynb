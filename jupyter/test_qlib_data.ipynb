{
 "cells": [
  {
   "cell_type": "code",
   "execution_count": 18,
   "id": "c6af26ad",
   "metadata": {},
   "outputs": [
    {
     "name": "stdout",
     "output_type": "stream",
     "text": [
      "=== 诊断qlib数据源 ===\n",
      "D.instruments()返回类型: <class 'dict'>\n",
      "是否为None: False\n",
      "✅ D.instruments()成功返回: 2\n",
      "前5个instruments: ['market', 'filter_pipe']\n"
     ]
    }
   ],
   "source": [
    "# ✅ 修复方案2：诊断qlib数据源问题\n",
    "print(\"=== 诊断qlib数据源 ===\")\n",
    "\n",
    "# 检查qlib是否能获取instruments\n",
    "try:\n",
    "    result = D.instruments()\n",
    "    print(f\"D.instruments()返回类型: {type(result)}\")\n",
    "    print(f\"是否为None: {result is None}\")\n",
    "    \n",
    "    if result is None:\n",
    "        print(\"❌ D.instruments()返回None，这说明数据源有问题\")\n",
    "        print(\"可能的原因：\")\n",
    "        print(\"1. qlib数据路径不存在或无效\")\n",
    "        print(\"2. instruments.txt文件缺失或格式错误\")\n",
    "        print(\"3. qlib未正确初始化\")\n",
    "        \n",
    "        # 尝试手动指定ETF列表\n",
    "        print(\"\\n使用手动指定的ETF列表:\")\n",
    "        sample_df = D.features(\n",
    "            instruments=etf_list[:1],  # 只测试第一只\n",
    "            fields=[\"$close\", \"$volume\"],  # 指定具体字段\n",
    "            start_time=\"2023-01-01\", \n",
    "            end_time=\"2023-01-02\"\n",
    "        )\n",
    "        print(f\"✅ 手动指定成功: {sample_df.shape}\")\n",
    "        print(sample_df)\n",
    "        \n",
    "        \n",
    "    else:\n",
    "        print(f\"✅ D.instruments()成功返回: {len(result) if hasattr(result, '__len__') else 'N/A'}\")\n",
    "        if hasattr(result, '__len__') and len(result) > 0:\n",
    "            print(f\"前5个instruments: {list(result)[:5]}\")\n",
    "            \n",
    "except Exception as e:\n",
    "    print(f\"❌ D.instruments()调用失败: {e}\")\n",
    "    print(\"这说明qlib可能没有正确初始化\")\n"
   ]
  },
  {
   "cell_type": "code",
   "execution_count": 19,
   "id": "75107cba",
   "metadata": {},
   "outputs": [
    {
     "name": "stdout",
     "output_type": "stream",
     "text": [
      "=== 使用项目数据转换工具 ===\n",
      "正在检查ETF数据转换器...\n",
      "\n",
      "=== 正确的D.features()用法 ===\n",
      "重要提示：\n",
      "1. instruments 参数必须是列表，即使只有一个股票也要用 [stock_code]\n",
      "2. qlib必须正确初始化并有有效的数据源\n",
      "3. 如果D.instruments()返回None，说明数据源有问题\n",
      "\n",
      "正确的代码格式：\n",
      "sample_df = D.features(\n",
      "    instruments=[etf_list[0]],  # 列表格式！\n",
      "    fields=None,\n",
      "    start_time='2023-01-01',\n",
      "    end_time='2023-01-02'\n",
      ")\n"
     ]
    }
   ],
   "source": [
    "# ✅ 修复方案3：使用项目中的数据转换工具\n",
    "print(\"=== 使用项目数据转换工具 ===\")\n",
    "\n",
    "# 如果你有ETF数据文件，可以使用项目中的转换工具\n",
    "import sys\n",
    "import os\n",
    "sys.path.append('../qlib_workflow')\n",
    "\n",
    "try:\n",
    "    from data_converter import ETFDataConverter\n",
    "    \n",
    "    print(\"正在检查ETF数据转换器...\")\n",
    "    converter = ETFDataConverter()\n",
    "    \n",
    "    # 如果你有原始ETF数据，可以运行转换\n",
    "    # result = converter.run()\n",
    "    # print(f\"数据转换完成: {result}\")\n",
    "    \n",
    "except ImportError as e:\n",
    "    print(f\"无法导入数据转换器: {e}\")\n",
    "except Exception as e:\n",
    "    print(f\"数据转换器执行失败: {e}\")\n",
    "\n",
    "# 最终的正确用法示例\n",
    "print(\"\\n=== 正确的D.features()用法 ===\")\n",
    "print(\"重要提示：\")\n",
    "print(\"1. instruments 参数必须是列表，即使只有一个股票也要用 [stock_code]\")\n",
    "print(\"2. qlib必须正确初始化并有有效的数据源\")\n",
    "print(\"3. 如果D.instruments()返回None，说明数据源有问题\")\n",
    "\n",
    "print(\"\\n正确的代码格式：\")\n",
    "print(\"sample_df = D.features(\")\n",
    "print(\"    instruments=[etf_list[0]],  # 列表格式！\")\n",
    "print(\"    fields=None,\")  \n",
    "print(\"    start_time='2023-01-01',\")\n",
    "print(\"    end_time='2023-01-02'\")\n",
    "print(\")\")\n"
   ]
  },
  {
   "cell_type": "code",
   "execution_count": 26,
   "id": "bbba14ef",
   "metadata": {},
   "outputs": [
    {
     "name": "stderr",
     "output_type": "stream",
     "text": [
      "[1408:MainThread](2025-08-07 00:08:44,701) INFO - qlib.Initialization - [config.py:451] - default_conf: client.\n",
      "[1408:MainThread](2025-08-07 00:08:44,705) INFO - qlib.Initialization - [__init__.py:75] - qlib successfully initialized based on client settings.\n",
      "[1408:MainThread](2025-08-07 00:08:44,706) INFO - qlib.Initialization - [__init__.py:77] - data_path={'__DEFAULT_FREQ': PosixPath('/Users/liyuan/data/qlib_data/etf_data')}\n"
     ]
    }
   ],
   "source": [
    "import qlib\n",
    "from qlib.data import D\n",
    "import pandas as pd\n",
    "\n",
    "# 初始化qlib，假设数据已在~/data/qlib_data/etf_data\n",
    "qlib.init(provider_uri=\"/Users/liyuan/data/qlib_data/etf_data/\",region=\"cn\")"
   ]
  },
  {
   "cell_type": "code",
   "execution_count": null,
   "id": "21268f3d",
   "metadata": {},
   "outputs": [],
   "source": []
  },
  {
   "cell_type": "code",
   "execution_count": 28,
   "id": "9ee64a2e",
   "metadata": {},
   "outputs": [
    {
     "ename": "TypeError",
     "evalue": "'NoneType' object is not iterable",
     "output_type": "error",
     "traceback": [
      "\u001b[0;31m---------------------------------------------------------------------------\u001b[0m",
      "\u001b[0;31mTypeError\u001b[0m                                 Traceback (most recent call last)",
      "Cell \u001b[0;32mIn[28], line 12\u001b[0m\n\u001b[1;32m      2\u001b[0m etf_list \u001b[38;5;241m=\u001b[39m [\n\u001b[1;32m      3\u001b[0m     \u001b[38;5;124m\"\u001b[39m\u001b[38;5;124m560590.SH\u001b[39m\u001b[38;5;124m\"\u001b[39m,\n\u001b[1;32m      4\u001b[0m     \u001b[38;5;124m\"\u001b[39m\u001b[38;5;124m159680.SZ\u001b[39m\u001b[38;5;124m\"\u001b[39m,\n\u001b[0;32m   (...)\u001b[0m\n\u001b[1;32m      7\u001b[0m     \u001b[38;5;124m\"\u001b[39m\u001b[38;5;124m159685.SZ\u001b[39m\u001b[38;5;124m\"\u001b[39m\n\u001b[1;32m      8\u001b[0m ]\n\u001b[1;32m     11\u001b[0m \u001b[38;5;66;03m# 取一只ETF，获取其所有字段\u001b[39;00m\n\u001b[0;32m---> 12\u001b[0m sample_df \u001b[38;5;241m=\u001b[39m \u001b[43mD\u001b[49m\u001b[38;5;241;43m.\u001b[39;49m\u001b[43mfeatures\u001b[49m\u001b[43m(\u001b[49m\u001b[43m[\u001b[49m\u001b[38;5;124;43m\"\u001b[39;49m\u001b[38;5;124;43m159629.SZ\u001b[39;49m\u001b[38;5;124;43m\"\u001b[39;49m\u001b[43m]\u001b[49m\u001b[43m,\u001b[49m\u001b[43m \u001b[49m\u001b[43mfields\u001b[49m\u001b[38;5;241;43m=\u001b[39;49m\u001b[38;5;28;43;01mNone\u001b[39;49;00m\u001b[43m,\u001b[49m\u001b[43m \u001b[49m\u001b[43mstart_time\u001b[49m\u001b[38;5;241;43m=\u001b[39;49m\u001b[38;5;124;43m\"\u001b[39;49m\u001b[38;5;124;43m2023-01-01\u001b[39;49m\u001b[38;5;124;43m\"\u001b[39;49m\u001b[43m,\u001b[49m\u001b[43m \u001b[49m\u001b[43mend_time\u001b[49m\u001b[38;5;241;43m=\u001b[39;49m\u001b[38;5;124;43m\"\u001b[39;49m\u001b[38;5;124;43m2023-01-02\u001b[39;49m\u001b[38;5;124;43m\"\u001b[39;49m\u001b[43m)\u001b[49m\n\u001b[1;32m     13\u001b[0m sample_df   \n\u001b[1;32m     14\u001b[0m \u001b[38;5;66;03m# fields = sample_df.columns.tolist()\u001b[39;00m\n\u001b[1;32m     15\u001b[0m \u001b[38;5;66;03m# # 构造DataFrame返回\u001b[39;00m\n\u001b[1;32m     16\u001b[0m \u001b[38;5;66;03m# df_fields = pd.DataFrame({'字段名': fields})\u001b[39;00m\n\u001b[1;32m     17\u001b[0m \u001b[38;5;66;03m# df_fields\u001b[39;00m\n",
      "File \u001b[0;32m~/miniconda3/envs/qlib/lib/python3.10/site-packages/qlib/data/data.py:1184\u001b[0m, in \u001b[0;36mBaseProvider.features\u001b[0;34m(self, instruments, fields, start_time, end_time, freq, disk_cache, inst_processors)\u001b[0m\n\u001b[1;32m   1172\u001b[0m \u001b[38;5;250m\u001b[39m\u001b[38;5;124;03m\"\"\"\u001b[39;00m\n\u001b[1;32m   1173\u001b[0m \u001b[38;5;124;03mParameters\u001b[39;00m\n\u001b[1;32m   1174\u001b[0m \u001b[38;5;124;03m----------\u001b[39;00m\n\u001b[0;32m   (...)\u001b[0m\n\u001b[1;32m   1181\u001b[0m \u001b[38;5;124;03mis a provider class.\u001b[39;00m\n\u001b[1;32m   1182\u001b[0m \u001b[38;5;124;03m\"\"\"\u001b[39;00m\n\u001b[1;32m   1183\u001b[0m disk_cache \u001b[38;5;241m=\u001b[39m C\u001b[38;5;241m.\u001b[39mdefault_disk_cache \u001b[38;5;28;01mif\u001b[39;00m disk_cache \u001b[38;5;129;01mis\u001b[39;00m \u001b[38;5;28;01mNone\u001b[39;00m \u001b[38;5;28;01melse\u001b[39;00m disk_cache\n\u001b[0;32m-> 1184\u001b[0m fields \u001b[38;5;241m=\u001b[39m \u001b[38;5;28;43mlist\u001b[39;49m\u001b[43m(\u001b[49m\u001b[43mfields\u001b[49m\u001b[43m)\u001b[49m  \u001b[38;5;66;03m# In case of tuple.\u001b[39;00m\n\u001b[1;32m   1185\u001b[0m \u001b[38;5;28;01mtry\u001b[39;00m:\n\u001b[1;32m   1186\u001b[0m     \u001b[38;5;28;01mreturn\u001b[39;00m DatasetD\u001b[38;5;241m.\u001b[39mdataset(\n\u001b[1;32m   1187\u001b[0m         instruments, fields, start_time, end_time, freq, disk_cache, inst_processors\u001b[38;5;241m=\u001b[39minst_processors\n\u001b[1;32m   1188\u001b[0m     )\n",
      "\u001b[0;31mTypeError\u001b[0m: 'NoneType' object is not iterable"
     ]
    }
   ],
   "source": [
    "# 假设etf列表如下\n",
    "etf_list = [\n",
    "    \"560590.SH\",\n",
    "    \"159680.SZ\",\n",
    "    \"561780.SH\",\n",
    "    \"159677.SZ\",\n",
    "    \"159685.SZ\"\n",
    "]\n",
    "\n",
    "\n",
    "# 取一只ETF，获取其所有字段\n",
    "sample_df = D.features([\"159629.SZ\"], fields=None, start_time=\"2023-01-01\", end_time=\"2023-01-02\")\n",
    "sample_df   \n",
    "# fields = sample_df.columns.tolist()\n",
    "# # 构造DataFrame返回\n",
    "# df_fields = pd.DataFrame({'字段名': fields})\n",
    "# df_fields\n"
   ]
  },
  {
   "cell_type": "code",
   "execution_count": 6,
   "id": "47dfe4ba",
   "metadata": {},
   "outputs": [
    {
     "data": {
      "text/plain": [
       "['159001.SZ', '159003.SZ', '159005.SZ', '159150.SZ', '159200.SZ', '159201.SZ']"
      ]
     },
     "execution_count": 6,
     "metadata": {},
     "output_type": "execute_result"
    }
   ],
   "source": [
    "instruments = D.instruments(market='etf_test')\n",
    "D.list_instruments(instruments=instruments, start_time='2020-01-01', end_time='2025-12-31', as_list=True)[:6]\n",
    "\n",
    "\n"
   ]
  },
  {
   "cell_type": "code",
   "execution_count": 16,
   "id": "c9643525",
   "metadata": {},
   "outputs": [
    {
     "data": {
      "text/plain": [
       "[]"
      ]
     },
     "execution_count": 16,
     "metadata": {},
     "output_type": "execute_result"
    }
   ],
   "source": [
    "from qlib.data.filter import NameDFilter\n",
    "nameDFilter = NameDFilter(name_rule_re='5[0-9]{5}.sh')\n",
    "instruments = D.instruments(market='all', filter_pipe=[nameDFilter])\n",
    "D.list_instruments(instruments=instruments, start_time='2015-01-01', end_time='2016-02-15', as_list=True)"
   ]
  },
  {
   "cell_type": "code",
   "execution_count": null,
   "id": "93ae3675",
   "metadata": {},
   "outputs": [],
   "source": []
  },
  {
   "cell_type": "code",
   "execution_count": 17,
   "id": "cb90b914",
   "metadata": {},
   "outputs": [
    {
     "name": "stderr",
     "output_type": "stream",
     "text": [
      "[1408:MainThread](2025-08-07 00:03:14,514) INFO - qlib.Initialization - [config.py:451] - default_conf: client.\n",
      "[1408:MainThread](2025-08-07 00:03:14,518) INFO - qlib.Initialization - [__init__.py:75] - qlib successfully initialized based on client settings.\n",
      "[1408:MainThread](2025-08-07 00:03:14,519) INFO - qlib.Initialization - [__init__.py:77] - data_path={'__DEFAULT_FREQ': PosixPath('/Users/liyuan/data/qlib_data/etf_data')}\n"
     ]
    },
    {
     "ename": "TypeError",
     "evalue": "BaseProvider.list_instruments() got an unexpected keyword argument 'market'",
     "output_type": "error",
     "traceback": [
      "\u001b[0;31m---------------------------------------------------------------------------\u001b[0m",
      "\u001b[0;31mTypeError\u001b[0m                                 Traceback (most recent call last)",
      "Cell \u001b[0;32mIn[17], line 9\u001b[0m\n\u001b[1;32m      6\u001b[0m qlib\u001b[38;5;241m.\u001b[39minit(provider_uri\u001b[38;5;241m=\u001b[39m\u001b[38;5;124m\"\u001b[39m\u001b[38;5;124m~/data/qlib_data/etf_data\u001b[39m\u001b[38;5;124m\"\u001b[39m, region\u001b[38;5;241m=\u001b[39m\u001b[38;5;124m\"\u001b[39m\u001b[38;5;124mcn\u001b[39m\u001b[38;5;124m\"\u001b[39m)\n\u001b[1;32m      8\u001b[0m \u001b[38;5;66;03m# 观察所有ETF的可用代码\u001b[39;00m\n\u001b[0;32m----> 9\u001b[0m instruments \u001b[38;5;241m=\u001b[39m \u001b[43mD\u001b[49m\u001b[38;5;241;43m.\u001b[39;49m\u001b[43mlist_instruments\u001b[49m\u001b[43m(\u001b[49m\u001b[43mmarket\u001b[49m\u001b[38;5;241;43m=\u001b[39;49m\u001b[38;5;124;43m\"\u001b[39;49m\u001b[38;5;124;43mall\u001b[39;49m\u001b[38;5;124;43m\"\u001b[39;49m\u001b[43m,\u001b[49m\u001b[43m \u001b[49m\u001b[43mcategory\u001b[49m\u001b[38;5;241;43m=\u001b[39;49m\u001b[38;5;124;43m\"\u001b[39;49m\u001b[38;5;124;43mETF\u001b[39;49m\u001b[38;5;124;43m\"\u001b[39;49m\u001b[43m)\u001b[49m\n\u001b[1;32m     10\u001b[0m \u001b[38;5;28mprint\u001b[39m(\u001b[38;5;124m\"\u001b[39m\u001b[38;5;124mETF数量:\u001b[39m\u001b[38;5;124m\"\u001b[39m, \u001b[38;5;28mlen\u001b[39m(instruments))\n\u001b[1;32m     11\u001b[0m \u001b[38;5;28mprint\u001b[39m(\u001b[38;5;124m\"\u001b[39m\u001b[38;5;124m前5只ETF:\u001b[39m\u001b[38;5;124m\"\u001b[39m, instruments[:\u001b[38;5;241m5\u001b[39m])\n",
      "\u001b[0;31mTypeError\u001b[0m: BaseProvider.list_instruments() got an unexpected keyword argument 'market'"
     ]
    }
   ],
   "source": [
    "import qlib\n",
    "from qlib.data import D\n",
    "import pandas as pd\n",
    "\n",
    "# 初始化qlib，假设数据已在~/data/qlib_data/etf_data\n",
    "qlib.init(provider_uri=\"~/data/qlib_data/etf_data\", region=\"cn\")\n",
    "\n",
    "# 观察所有ETF的可用代码\n",
    "instruments = D.list_instruments(market=\"all\", category=\"ETF\")\n",
    "print(\"ETF数量:\", len(instruments))\n",
    "print(\"前5只ETF:\", instruments[:5])\n",
    "\n",
    "# 取某只ETF的部分数据\n",
    "etf_code = instruments[0]\n",
    "df = D.features([etf_code], fields=[\"$open\", \"$close\", \"$high\", \"$low\", \"$volume\"], start_time=\"2023-03-20\", end_time=\"2023-03-31\")\n",
    "print(df.head())\n",
    "\n",
    "# 筛选收盘价大于100的记录\n",
    "filtered = df[df[\"$close\"] > 100]\n",
    "print(\"收盘价大于100的记录:\")\n",
    "print(filtered)\n",
    "\n",
    "# 统计该ETF的成交量均值\n",
    "print(\"成交量均值:\", df[\"$volume\"].mean())\n"
   ]
  },
  {
   "cell_type": "code",
   "execution_count": null,
   "id": "c8c8a2c0",
   "metadata": {},
   "outputs": [],
   "source": []
  }
 ],
 "metadata": {
  "kernelspec": {
   "display_name": "qlib",
   "language": "python",
   "name": "python3"
  },
  "language_info": {
   "codemirror_mode": {
    "name": "ipython",
    "version": 3
   },
   "file_extension": ".py",
   "mimetype": "text/x-python",
   "name": "python",
   "nbconvert_exporter": "python",
   "pygments_lexer": "ipython3",
   "version": "3.10.18"
  }
 },
 "nbformat": 4,
 "nbformat_minor": 5
}
