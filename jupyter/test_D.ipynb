{
 "cells": [
  {
   "cell_type": "code",
   "execution_count": 7,
   "id": "602465ca",
   "metadata": {},
   "outputs": [
    {
     "name": "stderr",
     "output_type": "stream",
     "text": [
      "[28993:MainThread](2025-08-04 11:17:09,533) INFO - qlib.Initialization - [config.py:420] - default_conf: client.\n",
      "[28993:MainThread](2025-08-04 11:17:09,534) INFO - qlib.Initialization - [__init__.py:74] - qlib successfully initialized based on client settings.\n",
      "[28993:MainThread](2025-08-04 11:17:09,535) INFO - qlib.Initialization - [__init__.py:76] - data_path={'__DEFAULT_FREQ': PosixPath('/data/data_liy/qlib/cn_data')}\n"
     ]
    }
   ],
   "source": [
    "import qlib\n",
    "qlib.init(provider_uri='/data/data_liy/qlib/cn_data')"
   ]
  },
  {
   "cell_type": "code",
   "execution_count": 16,
   "id": "c1b56480",
   "metadata": {},
   "outputs": [
    {
     "data": {
      "text/plain": [
       "{'market': 'all', 'filter_pipe': []}"
      ]
     },
     "execution_count": 16,
     "metadata": {},
     "output_type": "execute_result"
    }
   ],
   "source": [
    "from qlib.data import D\n",
    "D.instruments(market='all')\n",
    "# D.list_instruments(instruments=instruments, start_time='2010-01-01', end_time='2017-12-31', as_list=True)[:6]"
   ]
  },
  {
   "cell_type": "code",
   "execution_count": 11,
   "id": "d6a55456",
   "metadata": {},
   "outputs": [
    {
     "data": {
      "text/plain": [
       "array([Timestamp('2010-01-04 00:00:00'), Timestamp('2010-01-05 00:00:00')],\n",
       "      dtype=object)"
      ]
     },
     "execution_count": 11,
     "metadata": {},
     "output_type": "execute_result"
    }
   ],
   "source": [
    "D.calendar(start_time='2010-01-01', end_time='2017-12-31', freq='day')[:2]"
   ]
  }
 ],
 "metadata": {
  "kernelspec": {
   "display_name": "qlib",
   "language": "python",
   "name": "python3"
  },
  "language_info": {
   "codemirror_mode": {
    "name": "ipython",
    "version": 3
   },
   "file_extension": ".py",
   "mimetype": "text/x-python",
   "name": "python",
   "nbconvert_exporter": "python",
   "pygments_lexer": "ipython3",
   "version": "3.10.18"
  }
 },
 "nbformat": 4,
 "nbformat_minor": 5
}
