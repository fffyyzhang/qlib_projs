{
 "cells": [
  {
   "cell_type": "code",
   "execution_count": 1,
   "id": "3537071f",
   "metadata": {},
   "outputs": [
    {
     "name": "stderr",
     "output_type": "stream",
     "text": [
      "[5490:MainThread](2025-08-05 11:25:15,500) INFO - qlib.Initialization - [config.py:420] - default_conf: client.\n",
      "[5490:MainThread](2025-08-05 11:25:15,811) INFO - qlib.Initialization - [__init__.py:74] - qlib successfully initialized based on client settings.\n",
      "[5490:MainThread](2025-08-05 11:25:15,812) INFO - qlib.Initialization - [__init__.py:76] - data_path={'__DEFAULT_FREQ': PosixPath('/data/data_liy/qlib/etf_data')}\n"
     ]
    }
   ],
   "source": [
    "import qlib\n",
    "qlib.init(provider_uri='/data/data_liy/qlib/etf_data')\n",
    "from qlib.data import D\n",
    "from qlib.data.filter import NameDFilter"
   ]
  },
  {
   "cell_type": "code",
   "execution_count": 2,
   "id": "498c7590",
   "metadata": {},
   "outputs": [
    {
     "data": {
      "text/plain": [
       "array([Timestamp('2014-01-02 00:00:00'), Timestamp('2014-01-03 00:00:00')],\n",
       "      dtype=object)"
      ]
     },
     "execution_count": 2,
     "metadata": {},
     "output_type": "execute_result"
    }
   ],
   "source": [
    "D.calendar(start_time='2010-01-01', end_time='2017-12-31', freq='day')[:2]"
   ]
  },
  {
   "cell_type": "code",
   "execution_count": 4,
   "id": "bdcf73cb",
   "metadata": {},
   "outputs": [
    {
     "data": {
      "text/plain": [
       "['159302.SZ', '159502.SZ', '159602.SZ', '159902.SZ']"
      ]
     },
     "execution_count": 4,
     "metadata": {},
     "output_type": "execute_result"
    }
   ],
   "source": [
    "# instruments = D.instruments(market='all')\n",
    "# D.list_instruments(instruments=instruments, start_time='2020-01-01', end_time='2025-12-31', as_list=True)[:20]\n",
    "\n",
    "#名称过滤速度慢的离谱\n",
    "nameDFilter = NameDFilter(name_rule_re='[0-9]{4}02.SZ')\n",
    "instruments = D.instruments(market='all', filter_pipe=[nameDFilter])\n",
    "D.list_instruments(instruments=instruments, start_time='2015-01-01', end_time='2025-02-15', as_list=True)\n"
   ]
  },
  {
   "cell_type": "code",
   "execution_count": null,
   "id": "98495d6e",
   "metadata": {},
   "outputs": [
    {
     "data": {
      "text/html": [
       "<div>\n",
       "<style scoped>\n",
       "    .dataframe tbody tr th:only-of-type {\n",
       "        vertical-align: middle;\n",
       "    }\n",
       "\n",
       "    .dataframe tbody tr th {\n",
       "        vertical-align: top;\n",
       "    }\n",
       "\n",
       "    .dataframe thead th {\n",
       "        text-align: right;\n",
       "    }\n",
       "</style>\n",
       "<table border=\"1\" class=\"dataframe\">\n",
       "  <thead>\n",
       "    <tr style=\"text-align: right;\">\n",
       "      <th></th>\n",
       "      <th></th>\n",
       "      <th>$close</th>\n",
       "      <th>$volume</th>\n",
       "    </tr>\n",
       "    <tr>\n",
       "      <th>instrument</th>\n",
       "      <th>datetime</th>\n",
       "      <th></th>\n",
       "      <th></th>\n",
       "    </tr>\n",
       "  </thead>\n",
       "  <tbody>\n",
       "    <tr>\n",
       "      <th rowspan=\"10\" valign=\"top\">159302.SZ</th>\n",
       "      <th>2024-09-02</th>\n",
       "      <td>0.977</td>\n",
       "      <td>1.024849e+06</td>\n",
       "    </tr>\n",
       "    <tr>\n",
       "      <th>2024-09-03</th>\n",
       "      <td>0.968</td>\n",
       "      <td>3.848822e+05</td>\n",
       "    </tr>\n",
       "    <tr>\n",
       "      <th>2024-09-04</th>\n",
       "      <td>0.951</td>\n",
       "      <td>1.861066e+05</td>\n",
       "    </tr>\n",
       "    <tr>\n",
       "      <th>2024-09-05</th>\n",
       "      <td>0.947</td>\n",
       "      <td>1.252207e+05</td>\n",
       "    </tr>\n",
       "    <tr>\n",
       "      <th>2024-09-06</th>\n",
       "      <td>0.946</td>\n",
       "      <td>4.043117e+04</td>\n",
       "    </tr>\n",
       "    <tr>\n",
       "      <th>2024-09-09</th>\n",
       "      <td>0.924</td>\n",
       "      <td>1.803907e+05</td>\n",
       "    </tr>\n",
       "    <tr>\n",
       "      <th>2024-09-10</th>\n",
       "      <td>0.929</td>\n",
       "      <td>2.020320e+05</td>\n",
       "    </tr>\n",
       "    <tr>\n",
       "      <th>2024-09-11</th>\n",
       "      <td>0.908</td>\n",
       "      <td>1.727656e+05</td>\n",
       "    </tr>\n",
       "    <tr>\n",
       "      <th>2024-09-12</th>\n",
       "      <td>0.921</td>\n",
       "      <td>1.412099e+05</td>\n",
       "    </tr>\n",
       "    <tr>\n",
       "      <th>2024-09-13</th>\n",
       "      <td>0.929</td>\n",
       "      <td>9.583118e+04</td>\n",
       "    </tr>\n",
       "  </tbody>\n",
       "</table>\n",
       "</div>"
      ],
      "text/plain": [
       "                       $close       $volume\n",
       "instrument datetime                        \n",
       "159302.SZ  2024-09-02   0.977  1.024849e+06\n",
       "           2024-09-03   0.968  3.848822e+05\n",
       "           2024-09-04   0.951  1.861066e+05\n",
       "           2024-09-05   0.947  1.252207e+05\n",
       "           2024-09-06   0.946  4.043117e+04\n",
       "           2024-09-09   0.924  1.803907e+05\n",
       "           2024-09-10   0.929  2.020320e+05\n",
       "           2024-09-11   0.908  1.727656e+05\n",
       "           2024-09-12   0.921  1.412099e+05\n",
       "           2024-09-13   0.929  9.583118e+04"
      ]
     },
     "execution_count": 5,
     "metadata": {},
     "output_type": "execute_result"
    }
   ],
   "source": [
    "#单个标的query的速度确实是非常快\n",
    "instruments = ['159302.SZ'] \n",
    "#fields = ['$close', '$volume', 'Ref($close, 1)', 'Mean($close, 3)', '$high-$low']\n",
    "fields = ['$close', '$volume']\n",
    "df=D.features(instruments, fields, start_time='2015-01-01', end_time='2025-12-31', freq='day').head(10)\n",
    "df"
   ]
  },
  {
   "cell_type": "code",
   "execution_count": null,
   "id": "4f8698da",
   "metadata": {},
   "outputs": [
    {
     "data": {
      "text/plain": [
       "Index(['$close', '$volume', 'Ref($close, 1)', 'Mean($close, 3)', '$high-$low'], dtype='object')"
      ]
     },
     "execution_count": 28,
     "metadata": {},
     "output_type": "execute_result"
    }
   ],
   "source": []
  }
 ],
 "metadata": {
  "kernelspec": {
   "display_name": "qlib",
   "language": "python",
   "name": "python3"
  },
  "language_info": {
   "codemirror_mode": {
    "name": "ipython",
    "version": 3
   },
   "file_extension": ".py",
   "mimetype": "text/x-python",
   "name": "python",
   "nbconvert_exporter": "python",
   "pygments_lexer": "ipython3",
   "version": "3.10.18"
  }
 },
 "nbformat": 4,
 "nbformat_minor": 5
}
